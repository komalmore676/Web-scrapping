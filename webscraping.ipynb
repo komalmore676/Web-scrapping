{
  "nbformat": 4,
  "nbformat_minor": 0,
  "metadata": {
    "colab": {
      "provenance": []
    },
    "kernelspec": {
      "name": "python3",
      "display_name": "Python 3"
    },
    "language_info": {
      "name": "python"
    }
  },
  "cells": [
    {
      "cell_type": "code",
      "execution_count": null,
      "metadata": {
        "colab": {
          "base_uri": "https://localhost:8080/"
        },
        "id": "XjLIL77G469t",
        "outputId": "7bc04881-909d-4979-b3c4-80cf742204cc"
      },
      "outputs": [
        {
          "output_type": "stream",
          "name": "stdout",
          "text": [
            "Collecting bs4\n",
            "  Downloading bs4-0.0.2-py2.py3-none-any.whl (1.2 kB)\n",
            "Requirement already satisfied: beautifulsoup4 in /usr/local/lib/python3.10/dist-packages (from bs4) (4.12.3)\n",
            "Requirement already satisfied: soupsieve>1.2 in /usr/local/lib/python3.10/dist-packages (from beautifulsoup4->bs4) (2.5)\n",
            "Installing collected packages: bs4\n",
            "Successfully installed bs4-0.0.2\n"
          ]
        }
      ],
      "source": [
        "pip install bs4"
      ]
    },
    {
      "cell_type": "code",
      "source": [
        "pip install requests"
      ],
      "metadata": {
        "id": "D40o6XdasNRE",
        "colab": {
          "base_uri": "https://localhost:8080/"
        },
        "outputId": "639a3106-f108-441f-b0e6-eb3a4fae2029"
      },
      "execution_count": null,
      "outputs": [
        {
          "output_type": "stream",
          "name": "stdout",
          "text": [
            "Requirement already satisfied: requests in /usr/local/lib/python3.10/dist-packages (2.31.0)\n",
            "Requirement already satisfied: charset-normalizer<4,>=2 in /usr/local/lib/python3.10/dist-packages (from requests) (3.3.2)\n",
            "Requirement already satisfied: idna<4,>=2.5 in /usr/local/lib/python3.10/dist-packages (from requests) (3.7)\n",
            "Requirement already satisfied: urllib3<3,>=1.21.1 in /usr/local/lib/python3.10/dist-packages (from requests) (2.0.7)\n",
            "Requirement already satisfied: certifi>=2017.4.17 in /usr/local/lib/python3.10/dist-packages (from requests) (2024.2.2)\n"
          ]
        }
      ]
    },
    {
      "cell_type": "code",
      "source": [
        "import bs4\n",
        "from bs4 import BeautifulSoup\n",
        "import requests"
      ],
      "metadata": {
        "id": "GvmQ9c5k5Kfo"
      },
      "execution_count": null,
      "outputs": []
    },
    {
      "cell_type": "code",
      "source": [
        "url = ('https://www.amazon.in/Apple-iPhone-13-128GB-Blue/dp/B09G9BL5CP?th=1')"
      ],
      "metadata": {
        "id": "9umbajyG5NIW"
      },
      "execution_count": null,
      "outputs": []
    },
    {
      "cell_type": "code",
      "source": [
        "headers = {\n",
        "    'Mozilla/5.0 (Windows NT 10.0; Win64; x64) AppleWebKit/537.36 (KHTML, like Gecko) Chrome/123.0.0.0 Safari/537.36'\n",
        "}"
      ],
      "metadata": {
        "id": "WASbTvIQ6KVH"
      },
      "execution_count": null,
      "outputs": []
    },
    {
      "cell_type": "code",
      "source": [
        "r = requests.get(url, {'headers':headers})"
      ],
      "metadata": {
        "id": "Z1LWamOF6pDY"
      },
      "execution_count": null,
      "outputs": []
    },
    {
      "cell_type": "code",
      "source": [
        "soup = bs4.BeautifulSoup(r.text, 'html.parser')"
      ],
      "metadata": {
        "id": "9aKVZutD6r94"
      },
      "execution_count": null,
      "outputs": []
    },
    {
      "cell_type": "code",
      "source": [
        "soup.find_all()"
      ],
      "metadata": {
        "colab": {
          "base_uri": "https://localhost:8080/"
        },
        "id": "JaDGc9mi63ZS",
        "outputId": "984c5d99-59d3-43c5-9229-6c1087cee0b5"
      },
      "execution_count": null,
      "outputs": [
        {
          "output_type": "execute_result",
          "data": {
            "text/plain": [
              "[<html>\n",
              " <head>\n",
              " <title>503 - Service Unavailable Error</title>\n",
              " </head>\n",
              " <body bgcolor=\"#FFFFFF\" text=\"#000000\">\n",
              " <!--\n",
              "         To discuss automated access to Amazon data please contact api-services-support@amazon.com.\n",
              "         For information about migrating to our APIs refer to our Marketplace APIs at https://developer.amazonservices.in/ref=rm_5_sv, or our Product Advertising API at https://affiliate-program.amazon.in/gp/advertising/api/detail/main.html/ref=rm_5_ac for advertising use cases.\n",
              " -->\n",
              " <center>\n",
              " <a href=\"https://www.amazon.in/ref=cs_503_logo/\">\n",
              " <img alt=\"Amazon.in\" border=\"0\" height=\"45\" src=\"https://images-eu.ssl-images-amazon.com/images/G/31/x-locale/communities/people/logo.gif\" width=\"200\"/></a>\n",
              " <p align=\"center\">\n",
              " <font face=\"Verdana,Arial,Helvetica\">\n",
              " <font color=\"#CC6600\" size=\"+2\"><b>Oops!</b></font><br/>\n",
              " <b>It's rush hour and traffic is piling up on that page. Please try again in a short while.<br/>If you were trying to place an order, it will not have been processed at this time.</b><p>\n",
              " <img alt=\"*\" border=\"0\" height=\"9\" src=\"https://images-eu.ssl-images-amazon.com/images/G/02/x-locale/common/orange-arrow.gif\" width=\"10\"/>\n",
              " <b><a href=\"https://www.amazon.in/ref=cs_503_link/\">Go to the Amazon.in home page to continue shopping</a></b>\n",
              " </p></font>\n",
              " </p></center>\n",
              " </body>\n",
              " </html>,\n",
              " <head>\n",
              " <title>503 - Service Unavailable Error</title>\n",
              " </head>,\n",
              " <title>503 - Service Unavailable Error</title>,\n",
              " <body bgcolor=\"#FFFFFF\" text=\"#000000\">\n",
              " <!--\n",
              "         To discuss automated access to Amazon data please contact api-services-support@amazon.com.\n",
              "         For information about migrating to our APIs refer to our Marketplace APIs at https://developer.amazonservices.in/ref=rm_5_sv, or our Product Advertising API at https://affiliate-program.amazon.in/gp/advertising/api/detail/main.html/ref=rm_5_ac for advertising use cases.\n",
              " -->\n",
              " <center>\n",
              " <a href=\"https://www.amazon.in/ref=cs_503_logo/\">\n",
              " <img alt=\"Amazon.in\" border=\"0\" height=\"45\" src=\"https://images-eu.ssl-images-amazon.com/images/G/31/x-locale/communities/people/logo.gif\" width=\"200\"/></a>\n",
              " <p align=\"center\">\n",
              " <font face=\"Verdana,Arial,Helvetica\">\n",
              " <font color=\"#CC6600\" size=\"+2\"><b>Oops!</b></font><br/>\n",
              " <b>It's rush hour and traffic is piling up on that page. Please try again in a short while.<br/>If you were trying to place an order, it will not have been processed at this time.</b><p>\n",
              " <img alt=\"*\" border=\"0\" height=\"9\" src=\"https://images-eu.ssl-images-amazon.com/images/G/02/x-locale/common/orange-arrow.gif\" width=\"10\"/>\n",
              " <b><a href=\"https://www.amazon.in/ref=cs_503_link/\">Go to the Amazon.in home page to continue shopping</a></b>\n",
              " </p></font>\n",
              " </p></center>\n",
              " </body>,\n",
              " <center>\n",
              " <a href=\"https://www.amazon.in/ref=cs_503_logo/\">\n",
              " <img alt=\"Amazon.in\" border=\"0\" height=\"45\" src=\"https://images-eu.ssl-images-amazon.com/images/G/31/x-locale/communities/people/logo.gif\" width=\"200\"/></a>\n",
              " <p align=\"center\">\n",
              " <font face=\"Verdana,Arial,Helvetica\">\n",
              " <font color=\"#CC6600\" size=\"+2\"><b>Oops!</b></font><br/>\n",
              " <b>It's rush hour and traffic is piling up on that page. Please try again in a short while.<br/>If you were trying to place an order, it will not have been processed at this time.</b><p>\n",
              " <img alt=\"*\" border=\"0\" height=\"9\" src=\"https://images-eu.ssl-images-amazon.com/images/G/02/x-locale/common/orange-arrow.gif\" width=\"10\"/>\n",
              " <b><a href=\"https://www.amazon.in/ref=cs_503_link/\">Go to the Amazon.in home page to continue shopping</a></b>\n",
              " </p></font>\n",
              " </p></center>,\n",
              " <a href=\"https://www.amazon.in/ref=cs_503_logo/\">\n",
              " <img alt=\"Amazon.in\" border=\"0\" height=\"45\" src=\"https://images-eu.ssl-images-amazon.com/images/G/31/x-locale/communities/people/logo.gif\" width=\"200\"/></a>,\n",
              " <img alt=\"Amazon.in\" border=\"0\" height=\"45\" src=\"https://images-eu.ssl-images-amazon.com/images/G/31/x-locale/communities/people/logo.gif\" width=\"200\"/>,\n",
              " <p align=\"center\">\n",
              " <font face=\"Verdana,Arial,Helvetica\">\n",
              " <font color=\"#CC6600\" size=\"+2\"><b>Oops!</b></font><br/>\n",
              " <b>It's rush hour and traffic is piling up on that page. Please try again in a short while.<br/>If you were trying to place an order, it will not have been processed at this time.</b><p>\n",
              " <img alt=\"*\" border=\"0\" height=\"9\" src=\"https://images-eu.ssl-images-amazon.com/images/G/02/x-locale/common/orange-arrow.gif\" width=\"10\"/>\n",
              " <b><a href=\"https://www.amazon.in/ref=cs_503_link/\">Go to the Amazon.in home page to continue shopping</a></b>\n",
              " </p></font>\n",
              " </p>,\n",
              " <font face=\"Verdana,Arial,Helvetica\">\n",
              " <font color=\"#CC6600\" size=\"+2\"><b>Oops!</b></font><br/>\n",
              " <b>It's rush hour and traffic is piling up on that page. Please try again in a short while.<br/>If you were trying to place an order, it will not have been processed at this time.</b><p>\n",
              " <img alt=\"*\" border=\"0\" height=\"9\" src=\"https://images-eu.ssl-images-amazon.com/images/G/02/x-locale/common/orange-arrow.gif\" width=\"10\"/>\n",
              " <b><a href=\"https://www.amazon.in/ref=cs_503_link/\">Go to the Amazon.in home page to continue shopping</a></b>\n",
              " </p></font>,\n",
              " <font color=\"#CC6600\" size=\"+2\"><b>Oops!</b></font>,\n",
              " <b>Oops!</b>,\n",
              " <br/>,\n",
              " <b>It's rush hour and traffic is piling up on that page. Please try again in a short while.<br/>If you were trying to place an order, it will not have been processed at this time.</b>,\n",
              " <br/>,\n",
              " <p>\n",
              " <img alt=\"*\" border=\"0\" height=\"9\" src=\"https://images-eu.ssl-images-amazon.com/images/G/02/x-locale/common/orange-arrow.gif\" width=\"10\"/>\n",
              " <b><a href=\"https://www.amazon.in/ref=cs_503_link/\">Go to the Amazon.in home page to continue shopping</a></b>\n",
              " </p>,\n",
              " <img alt=\"*\" border=\"0\" height=\"9\" src=\"https://images-eu.ssl-images-amazon.com/images/G/02/x-locale/common/orange-arrow.gif\" width=\"10\"/>,\n",
              " <b><a href=\"https://www.amazon.in/ref=cs_503_link/\">Go to the Amazon.in home page to continue shopping</a></b>,\n",
              " <a href=\"https://www.amazon.in/ref=cs_503_link/\">Go to the Amazon.in home page to continue shopping</a>]"
            ]
          },
          "metadata": {},
          "execution_count": 9
        }
      ]
    },
    {
      "cell_type": "code",
      "source": [
        "soup.find_all('div')"
      ],
      "metadata": {
        "colab": {
          "base_uri": "https://localhost:8080/"
        },
        "id": "_WnPyKSK75bG",
        "outputId": "f5e8ca11-708f-4310-8654-b963ecf0edd0"
      },
      "execution_count": null,
      "outputs": [
        {
          "output_type": "execute_result",
          "data": {
            "text/plain": [
              "[]"
            ]
          },
          "metadata": {},
          "execution_count": 10
        }
      ]
    },
    {
      "cell_type": "code",
      "source": [
        "import requests\n",
        "from bs4 import BeautifulSoup\n",
        "\n",
        "url = 'https://www.amazon.in/Apple-iPhone-13-128GB-Blue/dp/B09G9BL5CP?th=1'\n",
        "\n",
        "headers = {\n",
        "    'User-Agent': 'Mozilla/5.0 (Windows NT 10.0; Win64; x64) AppleWebKit/537.36 (KHTML, like Gecko) Chrome/124.0.0.0 Safari/537.36',\n",
        "    'Accept-Encoding': 'gzip, deflate, br',\n",
        "    'Referer': 'https://www.amazon.in/'\n",
        "}"
      ],
      "metadata": {
        "id": "_-32AIK78Klq"
      },
      "execution_count": null,
      "outputs": []
    },
    {
      "cell_type": "code",
      "source": [
        "response = requests.get(url, headers=headers)\n",
        "soup = BeautifulSoup(response.content, 'html.parser')\n",
        "\n",
        "reviews = soup.find_all('div', {'data-hook': 'review'})\n",
        "\n",
        "for review in reviews:\n",
        "    profile_name = review.find('span', {'class': 'a-profile-name'})\n",
        "    if profile_name:\n",
        "        print(profile_name.text)"
      ],
      "metadata": {
        "colab": {
          "base_uri": "https://localhost:8080/"
        },
        "id": "HLvoHlIS2xIq",
        "outputId": "74558c44-ddc7-42a6-b3eb-b099f7ad8000"
      },
      "execution_count": null,
      "outputs": [
        {
          "output_type": "stream",
          "name": "stdout",
          "text": [
            "Pankaj Kumar\n",
            "Jnan Shetty\n",
            "vaibhav\n"
          ]
        }
      ]
    },
    {
      "cell_type": "code",
      "source": [
        "#response = requests.get(url, headers=headers)\n",
        "#soup = BeautifulSoup(response.content, 'html.parser')\n",
        "review_para = soup.find_all('div', {'data-hook': 'review-collapsed'})\n",
        "review_para_list = []\n",
        "for review in review_para:\n",
        "    profile_reviews = review.find_all('span')\n",
        "    for i in profile_reviews:\n",
        "        review_para_list.append(i)\n",
        "        print(i.text)\n"
      ],
      "metadata": {
        "id": "LyDQ0oUECRbr",
        "colab": {
          "base_uri": "https://localhost:8080/"
        },
        "outputId": "d8f68017-dd30-4490-e5ec-7cf2c40041e8"
      },
      "execution_count": null,
      "outputs": [
        {
          "output_type": "stream",
          "name": "stdout",
          "text": [
            "The iPhone 13 128GB has surpassed my expectations in every aspect, setting a new standard for smartphone excellence. From its sleek design to its powerful performance and innovative features, this device has truly redefined what it means to own a premium smartphone.Design and Build Quality:The iPhone 13’s design is a masterpiece of craftsmanship, featuring a sleek aluminum frame and a stunning ceramic shield front cover. The device feels incredibly premium in hand, with its compact form factor and exquisite attention to detail. The IP68 water and dust resistance provide added durability and peace of mind, making it perfect for everyday use.Display:The Super Retina XDR display of the iPhone 13 is nothing short of breathtaking. The 6.1-inch OLED screen delivers vibrant colors, deep blacks, and excellent brightness levels, ensuring an immersive viewing experience for everything from streaming videos to browsing the web. The True Tone technology adapts the display to ambient lighting conditions, providing a comfortable viewing experience at all times.Performance:Powered by the A15 Bionic chip, the iPhone 13 delivers unparalleled performance and responsiveness. Apps launch instantly, animations are buttery smooth, and multitasking is a breeze, thanks to the efficient CPU and GPU. Whether it’s gaming, productivity tasks, or content creation, this device handles everything with ease, making it a true powerhouse in the palm of your hand.Camera:The camera system of the iPhone 13 is a true game-changer, capturing stunning photos and videos with remarkable clarity and detail. The dual-camera setup includes a 12MP wide and ultra-wide lens, with features such as Night mode, Deep Fusion, and Smart HDR 4 elevating photography to new heights. The addition of Cinematic mode adds a cinematic touch to video recordings, allowing users to unleash their creativity like never before.Battery Life:Battery life on the iPhone 13 is exceptional, easily lasting a full day with heavy usage. The efficient power management of the A15 chip, coupled with software optimizations, ensures long-lasting performance without compromising on productivity or entertainment. With MagSafe charging and fast charging support, staying powered up on the go has never been easier or more convenient.iOS Experience:As expected, the iPhone 13 runs on the latest version of iOS, providing a seamless and intuitive user experience. iOS 15 introduces a host of new features and improvements, including Focus mode, Live Text, and enhanced privacy controls, further enhancing the overall user experience and productivity.Conclusion:In conclusion, the iPhone 13 128GB is a true masterpiece of innovation and excellence, delivering an unparalleled experience that is sure to delight even the most discerning smartphone users. With its stunning design, powerful performance, innovative features, and exceptional battery life, it’s not just a smartphone - it’s a lifestyle upgrade. If you’re looking for the best of the best, look no further than the iPhone 13.\n",
            "\n",
            "\n",
            "                    The media could not be loaded.\n",
            "                \n",
            " This is my first iPhone and it always feels good to hold this masterpiece. This looks premium not just because of its branding, it has everything which makes it feel premium. However, despite all the looks and finish, the transition from Android to Apple is not very smooth and you may constantly lack certain features that can make life easy. I was using vivo y19 Lite before this and still have that phone with me. Putting out the feature that is being missed by me-1. Forwarding Anything in Whatsapp: Forwarding anything in Whatsapp from IPhone takes bit more step as compared to what is being offered in Android. This makes the entire process slow for an Android User2. App Switcher: Apple could have easily made App Switcher easy with just light Swipe up, instead they made it with long pressed Swipe up. Why man, why.. You don't have any features for Swipe up, just make it easy to launch.3. Andorid Dialer is Always Missed: Every android has a basic feature, where you can search the contact directly from Phone Dialer, here Dialer is used for Dialing Number only and it will not suggest you similar contact from contacts or last Dial. This is really bad.. If you have to Dial a number directly, use Dialer.. If you have to dial someone from Recent Call log, shift to that and if you to dial someone from contact, shift to that. Man, all this can be done under one button, under dialer. Android user will miss this very badly.4. Sending Multiple Files in Whatsapp: If you wants to add more than 1 file directly from whatsapp, you have to do it twice. In Android, one can simple start selecting from whatspp itself and can select as many files as they wants and can send in a single click. Here for sending multiple files, you have to go to gallery or folder and select all files first and share it through whatsapp.5. No Swipe based shifting from Chats to Status and to calls: In Android Whatsapp, you can switch between Calls, Chats and Status by just swiping, here you have to press button of each.6. Contact Viewing: Contact list sorting method is still out of my mind. Man, make it easy. For example, if one of your contacts First Name or Middle Name or Last Name, any one of thing start with Alphabet \"A\", than it will be shown on top of the list. Apple, pls adopt any one method or at least allow us to customise it.7. Many Apps in Android are much more refined than its version on Apple.8. This is for those who had use Samsung Pay: Samsung Pay was one of the best app for making UPI or Card Payment, just swipe up from home screen of Samsung Phones (Only S Series) and the app is open for payment, I miss that here very badly.9. Lack of Dual Messenger Facility: You can't use two different WhatsApp numbers here in the same phone, as supported in all android right now.These are the issues that I face right now. Apart from this, the phone is good, the sound is loud and clear, it Feels Premium in Hand, the Touch is very good and Face ID works like a charm. Gesture control customisation is really good and you can customise a lot of things.\n",
            "I snagged the iPhone 13 during the Great Indian Festival for an unbeatable price of 45,000, and let me tell you, it's been a game-changer in every way!Screen: The display is absolutely stunning – crisp, vibrant, and the colors pop like never before. Watching videos or scrolling through photos is a treat for the eyes. No complaints here!Hanging: Zero issues with hanging or lagging. This phone handles multitasking like a champ. Switching between apps is smooth, and I haven't experienced any frustrating delays.Battery: The battery life is surprisingly impressive. I can go a full day with normal usage, and it still has juice left in the tank. No more anxiously searching for a charger midday – a definite win!Comfort: The sleek design makes it a pleasure to hold, and the phone is just the right weight. It feels premium and comfortable in my hand, making it a joy to use for extended periods.Image Quality: The camera on the iPhone 13 is a true standout. The photos are sharp, and the night mode is a game-changer for capturing memories in low light. Selfies have never looked this good!Color: I went for the classic Midnight color, and it's elegant and timeless. The finish adds a touch of sophistication, and it doesn't attract fingerprints like some other phones I've had in the past.In summary, getting the iPhone 13 during the Great Indian Festival was an absolute steal. From the incredible screen to the reliable battery life and stunning camera, it's exceeded my expectations. If you're on the fence, take the plunge – you won't be disappointed.\n"
          ]
        }
      ]
    },
    {
      "cell_type": "markdown",
      "source": [],
      "metadata": {
        "id": "Dm_1AsyHXgmE"
      }
    },
    {
      "cell_type": "code",
      "source": [
        "rating = soup.find_all('i', {'data-hook': 'review-star-rating'})\n",
        "ratings_list = []\n",
        "for i in rating:\n",
        "    profile_rating = i.find_all('span', {'class':'a-icon-alt'})\n",
        "    for i in profile_rating:\n",
        "         ratings_list.append(i)\n",
        "         print(i.text)"
      ],
      "metadata": {
        "id": "kVByAk4N-hDA",
        "colab": {
          "base_uri": "https://localhost:8080/"
        },
        "outputId": "f9bc5734-a5f1-430f-82e1-5dcd40802454"
      },
      "execution_count": null,
      "outputs": [
        {
          "output_type": "stream",
          "name": "stdout",
          "text": [
            "5.0 out of 5 stars\n",
            "5.0 out of 5 stars\n",
            "5.0 out of 5 stars\n"
          ]
        }
      ]
    }
  ]
}